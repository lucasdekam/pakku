{
 "cells": [
  {
   "cell_type": "code",
   "execution_count": null,
   "metadata": {},
   "outputs": [],
   "source": [
    "from ase.io import iread, read\n",
    "# # fname = '../lorentz_data/jinwen/lucas.xyz'\n",
    "# # fname = '../lorentz_data/lucas/vasprun.xml'\n",
    "# # fname = '../lorentz_data/jiaxin/jiaxin.xyz'\n",
    "# # fname = '../lorentz_data/melander/lucas.xyz'\n",
    "# fname = '../lorentz_data/mace/unseen-mp.xyz'\n",
    "\n",
    "fname = \"yourtraj.xyz\"\n",
    "\n",
    "atoms = read(fname, index=\"-1\")\n",
    "reader = iread(fname, index='::10')\n",
    "\n",
    "from ase.visualize import view\n",
    "atoms.wrap()\n",
    "view(atoms)"
   ]
  },
  {
   "cell_type": "code",
   "execution_count": null,
   "metadata": {},
   "outputs": [],
   "source": [
    "from pakku.topology import get_surface\n",
    "from pakku.analysis import collect_costheta\n",
    "\n",
    "ind, surf_coords = get_surface(atoms, surface_layers=[2, 3])\n",
    "z_coords, costheta, n_frames = collect_costheta(reader, surface_indices=ind)\n",
    "\n",
    "surf_coords"
   ]
  },
  {
   "cell_type": "code",
   "execution_count": null,
   "metadata": {},
   "outputs": [],
   "source": [
    "import matplotlib.pyplot as plt \n",
    "import numpy as np\n",
    "from pakku.plottools import rho_cos_theta_profile\n",
    "%matplotlib widget \n",
    "\n",
    "f1 = plt.figure(1)\n",
    "f1.clf()\n",
    "ax1 = f1.add_subplot()\n",
    "x, y = rho_cos_theta_profile(z_coords, costheta, n_frames, z_range=surf_coords) # z_range=(surf_coords[1], atoms.cell[2][2] + surf_coords[0]))\n",
    "ax1.plot(x, y)\n",
    "ax1.fill_between(x, y, alpha=0.5)\n",
    "plt.show()"
   ]
  },
  {
   "cell_type": "code",
   "execution_count": null,
   "metadata": {},
   "outputs": [],
   "source": [
    "import matplotlib.pyplot as plt \n",
    "import numpy as np\n",
    "from pakku.plottools import water_density_profile\n",
    "%matplotlib widget \n",
    "\n",
    "f2 = plt.figure(2)\n",
    "plt.clf()\n",
    "ax2 = f2.add_subplot()\n",
    "x, y = water_density_profile(z_coords, n_frames, atoms.cell.area(2), z_range=surf_coords) # z_range=(surf_coords[1], atoms.cell[2][2] + surf_coords[0]))\n",
    "ax2.plot(x, y)\n",
    "ax2.fill_between(x, y, alpha=0.5)\n",
    "plt.show()"
   ]
  },
  {
   "cell_type": "code",
   "execution_count": null,
   "metadata": {},
   "outputs": [],
   "source": [
    "fig3 = plt.figure()\n",
    "ax23 = fig3.add_subplot()\n",
    "ax23.plot(z_coords, '.', markersize=1, alpha=0.25)"
   ]
  },
  {
   "cell_type": "code",
   "execution_count": null,
   "metadata": {},
   "outputs": [],
   "source": [
    "from pakku.plottools import adsorbed_water_stats\n",
    "\n",
    "fig = plt.figure()\n",
    "fig.clf()\n",
    "ax = fig.add_subplot()\n",
    "\n",
    "intervals = [(0, 2.7), (2.7, 3.7)]\n",
    "for interval in intervals:\n",
    "    coverage, theta_grid, count = adsorbed_water_stats(z_coords, costheta, n_frames, atoms.cell.area(2), surf_coords, interval=interval) # (surf_coords[1], atoms.cell[2][2] + surf_coords[0])\n",
    "    print(coverage)\n",
    "    ax.plot(theta_grid, count)\n",
    "    ax.fill_between(theta_grid, count, alpha=0.5)\n",
    "\n",
    "ax.set_xlim([0, 180])"
   ]
  },
  {
   "cell_type": "code",
   "execution_count": null,
   "metadata": {},
   "outputs": [],
   "source": []
  }
 ],
 "metadata": {
  "kernelspec": {
   "display_name": "mace",
   "language": "python",
   "name": "python3"
  },
  "language_info": {
   "codemirror_mode": {
    "name": "ipython",
    "version": 3
   },
   "file_extension": ".py",
   "mimetype": "text/x-python",
   "name": "python",
   "nbconvert_exporter": "python",
   "pygments_lexer": "ipython3",
   "version": "3.12.5"
  }
 },
 "nbformat": 4,
 "nbformat_minor": 2
}
